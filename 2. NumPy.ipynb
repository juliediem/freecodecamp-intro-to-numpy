{
  "cells": [
    {
      "cell_type": "markdown",
      "metadata": {
        "id": "lpQu6QgRP4JF"
      },
      "source": [
        "![rmotr](https://user-images.githubusercontent.com/7065401/52071918-bda15380-2562-11e9-828c-7f95297e4a82.png)\n",
        "<hr style=\"margin-bottom: 40px;\">\n",
        "\n",
        "<img src=\"https://user-images.githubusercontent.com/7065401/39118381-910eb0c2-46e9-11e8-81f1-a5b897401c23.jpeg\"\n",
        "    style=\"width:300px; float: right; margin: 0 40px 40px 40px;\"></img>\n",
        "\n",
        "# Numpy: Numeric computing library\n",
        "\n",
        "NumPy (Numerical Python) is one of the core packages for numerical computing in Python. Pandas, Matplotlib, Statmodels and many other Scientific libraries rely on NumPy.\n",
        "\n",
        "NumPy major contributions are:\n",
        "\n",
        "* Efficient numeric computation with C primitives\n",
        "* Efficient collections with vectorized operations\n",
        "* An integrated and natural Linear Algebra API\n",
        "* A C API for connecting NumPy with libraries written in C, C++, or FORTRAN.\n",
        "\n",
        "Let's develop on efficiency. In Python, **everything is an object**, which means that even simple ints are also objects, with all the required machinery to make object work. We call them \"Boxed Ints\". In contrast, NumPy uses primitive numeric types (floats, ints) which makes storing and computation efficient."
      ]
    },
    {
      "cell_type": "markdown",
      "metadata": {
        "id": "ezOVB5xhP4JH"
      },
      "source": [
        "<img src=\"https://docs.google.com/drawings/d/e/2PACX-1vTkDtKYMUVdpfVb3TTpr_8rrVtpal2dOknUUEOu85wJ1RitzHHf5nsJqz1O0SnTt8BwgJjxXMYXyIqs/pub?w=726&h=396\" />\n"
      ]
    },
    {
      "cell_type": "markdown",
      "metadata": {
        "id": "j37prp6nP4JH"
      },
      "source": [
        "![purple-divider](https://user-images.githubusercontent.com/7065401/52071927-c1cd7100-2562-11e9-908a-dde91ba14e59.png)\n",
        "\n",
        "## Hands on!"
      ]
    },
    {
      "cell_type": "code",
      "execution_count": 1,
      "metadata": {
        "id": "yrgo6z37P4JH"
      },
      "outputs": [],
      "source": [
        "import sys\n",
        "import numpy as np"
      ]
    },
    {
      "cell_type": "markdown",
      "metadata": {
        "id": "-pfqfzkEP4JI"
      },
      "source": [
        "## Basic Numpy Arrays"
      ]
    },
    {
      "cell_type": "code",
      "execution_count": 3,
      "metadata": {
        "id": "VT46nUBxP4JI",
        "outputId": "382dcf30-1701-4dcb-f6ba-0119ba5ded55",
        "colab": {
          "base_uri": "https://localhost:8080/"
        }
      },
      "outputs": [
        {
          "output_type": "execute_result",
          "data": {
            "text/plain": [
              "array([1, 2, 3, 4])"
            ]
          },
          "metadata": {},
          "execution_count": 3
        }
      ],
      "source": [
        "np.array([1, 2, 3, 4])"
      ]
    },
    {
      "cell_type": "code",
      "execution_count": 4,
      "metadata": {
        "id": "qx6zv4N3P4JI"
      },
      "outputs": [],
      "source": [
        "a = np.array([1, 2, 3, 4])"
      ]
    },
    {
      "cell_type": "code",
      "execution_count": 5,
      "metadata": {
        "id": "xALFjoPXP4JI"
      },
      "outputs": [],
      "source": [
        "b = np.array([0, .5, 1, 1.5, 2])"
      ]
    },
    {
      "cell_type": "code",
      "execution_count": 6,
      "metadata": {
        "id": "Amf4VskcP4JJ",
        "outputId": "2ba0faec-9165-4ffe-81f6-a538aa4419fd",
        "colab": {
          "base_uri": "https://localhost:8080/"
        }
      },
      "outputs": [
        {
          "output_type": "execute_result",
          "data": {
            "text/plain": [
              "(1, 2)"
            ]
          },
          "metadata": {},
          "execution_count": 6
        }
      ],
      "source": [
        "a[0], a[1]"
      ]
    },
    {
      "cell_type": "code",
      "execution_count": 7,
      "metadata": {
        "id": "a2jipQzAP4JJ",
        "outputId": "707e8fae-a2b4-499f-8ab4-fc045d49cb36",
        "colab": {
          "base_uri": "https://localhost:8080/"
        }
      },
      "outputs": [
        {
          "output_type": "execute_result",
          "data": {
            "text/plain": [
              "array([1, 2, 3, 4])"
            ]
          },
          "metadata": {},
          "execution_count": 7
        }
      ],
      "source": [
        "a[0:]"
      ]
    },
    {
      "cell_type": "code",
      "execution_count": 8,
      "metadata": {
        "id": "-vame3r4P4JJ",
        "outputId": "bfe319b1-a2bb-407d-a6b2-c9362f12963d",
        "colab": {
          "base_uri": "https://localhost:8080/"
        }
      },
      "outputs": [
        {
          "output_type": "execute_result",
          "data": {
            "text/plain": [
              "array([2, 3])"
            ]
          },
          "metadata": {},
          "execution_count": 8
        }
      ],
      "source": [
        "a[1:3]"
      ]
    },
    {
      "cell_type": "markdown",
      "source": [
        "In the below example, it kind of goes against the logic I was used to but when I do a single selection index of say a[-1], this selection is considered INCLUSIVE.\n",
        "When I'm slicing, and specify -1 as apart of a range, apparently it is EXCLUSIVE, so the system will return the value up to that point, but not the last element here. Still unsure about if I understand this one."
      ],
      "metadata": {
        "id": "-DeZxd6IYLr_"
      }
    },
    {
      "cell_type": "code",
      "execution_count": null,
      "metadata": {
        "scrolled": true,
        "id": "9hU_aLJ-P4JJ",
        "outputId": "375ccfb1-84fa-4073-c2f9-544d3ae12ea7"
      },
      "outputs": [
        {
          "data": {
            "text/plain": [
              "array([2, 3])"
            ]
          },
          "execution_count": 8,
          "metadata": {},
          "output_type": "execute_result"
        }
      ],
      "source": [
        "a[1:-1]"
      ]
    },
    {
      "cell_type": "code",
      "source": [
        "a[-1]"
      ],
      "metadata": {
        "id": "rBFFbx9cVJ1s",
        "outputId": "b34ae59a-cf27-4734-9aa7-9f50c0706a5c",
        "colab": {
          "base_uri": "https://localhost:8080/"
        }
      },
      "execution_count": 9,
      "outputs": [
        {
          "output_type": "execute_result",
          "data": {
            "text/plain": [
              "4"
            ]
          },
          "metadata": {},
          "execution_count": 9
        }
      ]
    },
    {
      "cell_type": "code",
      "execution_count": null,
      "metadata": {
        "id": "HS9yA6TGP4JJ",
        "outputId": "703e504b-ce64-451e-a6cc-64c4d433150b"
      },
      "outputs": [
        {
          "data": {
            "text/plain": [
              "array([1, 3])"
            ]
          },
          "execution_count": 9,
          "metadata": {},
          "output_type": "execute_result"
        }
      ],
      "source": [
        "a[::2]"
      ]
    },
    {
      "cell_type": "code",
      "execution_count": null,
      "metadata": {
        "id": "zfOLm8OzP4JJ",
        "outputId": "e4a3616c-0a4f-4bc7-bff6-cc7f3008da1b"
      },
      "outputs": [
        {
          "data": {
            "text/plain": [
              "array([0. , 0.5, 1. , 1.5, 2. ])"
            ]
          },
          "execution_count": 10,
          "metadata": {},
          "output_type": "execute_result"
        }
      ],
      "source": [
        "b"
      ]
    },
    {
      "cell_type": "code",
      "execution_count": null,
      "metadata": {
        "scrolled": true,
        "id": "1c-7wP1QP4JJ",
        "outputId": "c9b9ea8b-d8bd-4b68-a76e-9b436fdc360a"
      },
      "outputs": [
        {
          "data": {
            "text/plain": [
              "(0.0, 1.0, 2.0)"
            ]
          },
          "execution_count": 11,
          "metadata": {},
          "output_type": "execute_result"
        }
      ],
      "source": [
        "b[0], b[2], b[-1]"
      ]
    },
    {
      "cell_type": "code",
      "execution_count": null,
      "metadata": {
        "id": "SYj0uZFHP4JJ",
        "outputId": "d2884848-5696-40fc-f59f-de9908ada399"
      },
      "outputs": [
        {
          "data": {
            "text/plain": [
              "array([0., 1., 2.])"
            ]
          },
          "execution_count": 12,
          "metadata": {},
          "output_type": "execute_result"
        }
      ],
      "source": [
        "b[[0, 2, -1]]"
      ]
    },
    {
      "cell_type": "markdown",
      "metadata": {
        "id": "bChWnTQVP4JJ"
      },
      "source": [
        "![green-divider](https://user-images.githubusercontent.com/7065401/52071924-c003ad80-2562-11e9-8297-1c6595f8a7ff.png)\n",
        "\n",
        "## Array Types"
      ]
    },
    {
      "cell_type": "code",
      "execution_count": null,
      "metadata": {
        "id": "5outSXKXP4JK",
        "outputId": "fb9fa763-6453-4ed0-a099-bb29d13f4c50"
      },
      "outputs": [
        {
          "data": {
            "text/plain": [
              "dtype('int64')"
            ]
          },
          "execution_count": 14,
          "metadata": {},
          "output_type": "execute_result"
        }
      ],
      "source": [
        "a.dtype"
      ]
    },
    {
      "cell_type": "code",
      "execution_count": 11,
      "metadata": {
        "id": "RMsN4RIGP4JK",
        "outputId": "5c8040da-2b48-4531-ae96-45865274973b",
        "colab": {
          "base_uri": "https://localhost:8080/"
        }
      },
      "outputs": [
        {
          "output_type": "execute_result",
          "data": {
            "text/plain": [
              "array([1, 2, 3, 4])"
            ]
          },
          "metadata": {},
          "execution_count": 11
        }
      ],
      "source": [
        "a"
      ]
    },
    {
      "cell_type": "code",
      "execution_count": null,
      "metadata": {
        "id": "sthjmR56P4JK",
        "outputId": "6d7f5599-03f1-4c91-9b2b-fce2a937dad1"
      },
      "outputs": [
        {
          "data": {
            "text/plain": [
              "array([0. , 0.5, 1. , 1.5, 2. ])"
            ]
          },
          "execution_count": 15,
          "metadata": {},
          "output_type": "execute_result"
        }
      ],
      "source": [
        "b"
      ]
    },
    {
      "cell_type": "code",
      "execution_count": null,
      "metadata": {
        "id": "fM6i04AQP4JK",
        "outputId": "00a3f9e7-9ad8-46b6-ca9f-9758e4781879"
      },
      "outputs": [
        {
          "data": {
            "text/plain": [
              "dtype('float64')"
            ]
          },
          "execution_count": 16,
          "metadata": {},
          "output_type": "execute_result"
        }
      ],
      "source": [
        "b.dtype"
      ]
    },
    {
      "cell_type": "code",
      "execution_count": null,
      "metadata": {
        "scrolled": true,
        "id": "M2eFUDgOP4JK",
        "outputId": "541822db-ff81-4b2c-ef4f-45140861542c"
      },
      "outputs": [
        {
          "data": {
            "text/plain": [
              "array([1., 2., 3., 4.])"
            ]
          },
          "execution_count": 17,
          "metadata": {},
          "output_type": "execute_result"
        }
      ],
      "source": [
        "np.array([1, 2, 3, 4], dtype=np.float)"
      ]
    },
    {
      "cell_type": "markdown",
      "source": [
        "You can change the size to improve performance, in the below example, you are changing it from float64 (64 bit, to 8 bit)"
      ],
      "metadata": {
        "id": "ozWArbKmWQND"
      }
    },
    {
      "cell_type": "code",
      "execution_count": 12,
      "metadata": {
        "scrolled": true,
        "id": "WkEk3D47P4JK",
        "outputId": "273abe5a-7011-4ca9-a6cd-4b953c3f92ce",
        "colab": {
          "base_uri": "https://localhost:8080/"
        }
      },
      "outputs": [
        {
          "output_type": "execute_result",
          "data": {
            "text/plain": [
              "array([1, 2, 3, 4], dtype=int8)"
            ]
          },
          "metadata": {},
          "execution_count": 12
        }
      ],
      "source": [
        "np.array([1, 2, 3, 4], dtype=np.int8)"
      ]
    },
    {
      "cell_type": "code",
      "execution_count": 13,
      "metadata": {
        "id": "iPEdsDnFP4JK"
      },
      "outputs": [],
      "source": [
        "c = np.array(['a', 'b', 'c'])"
      ]
    },
    {
      "cell_type": "code",
      "execution_count": 14,
      "metadata": {
        "id": "M2CkSt63P4JK",
        "outputId": "8fc1e61b-5182-4c84-b64c-564cfc9e368e",
        "colab": {
          "base_uri": "https://localhost:8080/"
        }
      },
      "outputs": [
        {
          "output_type": "execute_result",
          "data": {
            "text/plain": [
              "dtype('<U1')"
            ]
          },
          "metadata": {},
          "execution_count": 14
        }
      ],
      "source": [
        "c.dtype"
      ]
    },
    {
      "cell_type": "code",
      "execution_count": 15,
      "metadata": {
        "id": "kEsIFPTzP4JK"
      },
      "outputs": [],
      "source": [
        "d = np.array([{'a': 1}, sys])"
      ]
    },
    {
      "cell_type": "code",
      "execution_count": 16,
      "metadata": {
        "id": "L22Wz9e5P4JK",
        "outputId": "1c60dd00-058a-45a7-f511-06d168a91f99",
        "colab": {
          "base_uri": "https://localhost:8080/"
        }
      },
      "outputs": [
        {
          "output_type": "execute_result",
          "data": {
            "text/plain": [
              "dtype('O')"
            ]
          },
          "metadata": {},
          "execution_count": 16
        }
      ],
      "source": [
        "d.dtype"
      ]
    },
    {
      "cell_type": "markdown",
      "metadata": {
        "id": "hxyDErjdP4JK"
      },
      "source": [
        "![green-divider](https://user-images.githubusercontent.com/7065401/52071924-c003ad80-2562-11e9-8297-1c6595f8a7ff.png)\n",
        "\n",
        "## Dimensions and shapes"
      ]
    },
    {
      "cell_type": "code",
      "execution_count": 17,
      "metadata": {
        "id": "wkWsA_wvP4JK"
      },
      "outputs": [],
      "source": [
        "A = np.array([\n",
        "    [1, 2, 3],\n",
        "    [4, 5, 6]\n",
        "])"
      ]
    },
    {
      "cell_type": "markdown",
      "source": [
        "2 rows, and 3 columns\n"
      ],
      "metadata": {
        "id": "orOqOeJ3W6xg"
      }
    },
    {
      "cell_type": "code",
      "execution_count": 18,
      "metadata": {
        "id": "Q5UDhIyIP4JK",
        "outputId": "0f25f67b-fd52-4c1a-939d-7a97e2c13e26",
        "colab": {
          "base_uri": "https://localhost:8080/"
        }
      },
      "outputs": [
        {
          "output_type": "execute_result",
          "data": {
            "text/plain": [
              "(2, 3)"
            ]
          },
          "metadata": {},
          "execution_count": 18
        }
      ],
      "source": [
        "A.shape"
      ]
    },
    {
      "cell_type": "code",
      "execution_count": 19,
      "metadata": {
        "id": "8VgEHdc7P4JK",
        "outputId": "4aea675d-4bda-4fd1-9ae5-805292493044",
        "colab": {
          "base_uri": "https://localhost:8080/"
        }
      },
      "outputs": [
        {
          "output_type": "execute_result",
          "data": {
            "text/plain": [
              "2"
            ]
          },
          "metadata": {},
          "execution_count": 19
        }
      ],
      "source": [
        "A.ndim"
      ]
    },
    {
      "cell_type": "code",
      "execution_count": null,
      "metadata": {
        "id": "tg7YSkz9P4JK",
        "outputId": "f5d350c5-16d5-4cfc-9409-834aa9d4eb83"
      },
      "outputs": [
        {
          "data": {
            "text/plain": [
              "6"
            ]
          },
          "execution_count": 26,
          "metadata": {},
          "output_type": "execute_result"
        }
      ],
      "source": [
        "A.size"
      ]
    },
    {
      "cell_type": "code",
      "execution_count": 20,
      "metadata": {
        "id": "-pK8_ryXP4JK"
      },
      "outputs": [],
      "source": [
        "B = np.array([\n",
        "    [\n",
        "        [12, 11, 10],\n",
        "        [9, 8, 7],\n",
        "    ],\n",
        "    [\n",
        "        [6, 5, 4],\n",
        "        [3, 2, 1]\n",
        "    ]\n",
        "])"
      ]
    },
    {
      "cell_type": "code",
      "execution_count": 21,
      "metadata": {
        "id": "lWGJJGDaP4JK",
        "outputId": "aee153c3-beae-4acf-ae11-ad694cd1d9ce",
        "colab": {
          "base_uri": "https://localhost:8080/"
        }
      },
      "outputs": [
        {
          "output_type": "execute_result",
          "data": {
            "text/plain": [
              "array([[[12, 11, 10],\n",
              "        [ 9,  8,  7]],\n",
              "\n",
              "       [[ 6,  5,  4],\n",
              "        [ 3,  2,  1]]])"
            ]
          },
          "metadata": {},
          "execution_count": 21
        }
      ],
      "source": [
        "B"
      ]
    },
    {
      "cell_type": "code",
      "execution_count": 22,
      "metadata": {
        "id": "5-8entuvP4JK",
        "outputId": "45b8a87c-c9f4-4834-9e29-17698f324753",
        "colab": {
          "base_uri": "https://localhost:8080/"
        }
      },
      "outputs": [
        {
          "output_type": "execute_result",
          "data": {
            "text/plain": [
              "(2, 2, 3)"
            ]
          },
          "metadata": {},
          "execution_count": 22
        }
      ],
      "source": [
        "B.shape"
      ]
    },
    {
      "cell_type": "code",
      "execution_count": 23,
      "metadata": {
        "id": "pIROFRlIP4JK",
        "outputId": "1f1912e5-3863-480d-cf07-9e19d1079628",
        "colab": {
          "base_uri": "https://localhost:8080/"
        }
      },
      "outputs": [
        {
          "output_type": "execute_result",
          "data": {
            "text/plain": [
              "3"
            ]
          },
          "metadata": {},
          "execution_count": 23
        }
      ],
      "source": [
        "B.ndim"
      ]
    },
    {
      "cell_type": "code",
      "execution_count": 24,
      "metadata": {
        "id": "jpljgc6QP4JL",
        "outputId": "c376475d-4876-48b6-8161-81b8d126919b",
        "colab": {
          "base_uri": "https://localhost:8080/"
        }
      },
      "outputs": [
        {
          "output_type": "execute_result",
          "data": {
            "text/plain": [
              "12"
            ]
          },
          "metadata": {},
          "execution_count": 24
        }
      ],
      "source": [
        "B.size"
      ]
    },
    {
      "cell_type": "markdown",
      "metadata": {
        "id": "JpISuIFCP4JL"
      },
      "source": [
        "If the shape isn't consistent, it'll just fall back to regular Python objects:"
      ]
    },
    {
      "cell_type": "code",
      "execution_count": 25,
      "metadata": {
        "id": "xWgBRU3gP4JL",
        "outputId": "963f6937-71cd-47de-f50c-916cc47b7ee9",
        "colab": {
          "base_uri": "https://localhost:8080/",
          "height": 233
        }
      },
      "outputs": [
        {
          "output_type": "error",
          "ename": "ValueError",
          "evalue": "setting an array element with a sequence. The requested array has an inhomogeneous shape after 1 dimensions. The detected shape was (2,) + inhomogeneous part.",
          "traceback": [
            "\u001b[0;31m---------------------------------------------------------------------------\u001b[0m",
            "\u001b[0;31mValueError\u001b[0m                                Traceback (most recent call last)",
            "\u001b[0;32m<ipython-input-25-39b57e6bbad9>\u001b[0m in \u001b[0;36m<cell line: 1>\u001b[0;34m()\u001b[0m\n\u001b[0;32m----> 1\u001b[0;31m C = np.array([\n\u001b[0m\u001b[1;32m      2\u001b[0m     [\n\u001b[1;32m      3\u001b[0m         \u001b[0;34m[\u001b[0m\u001b[0;36m12\u001b[0m\u001b[0;34m,\u001b[0m \u001b[0;36m11\u001b[0m\u001b[0;34m,\u001b[0m \u001b[0;36m10\u001b[0m\u001b[0;34m]\u001b[0m\u001b[0;34m,\u001b[0m\u001b[0;34m\u001b[0m\u001b[0;34m\u001b[0m\u001b[0m\n\u001b[1;32m      4\u001b[0m         \u001b[0;34m[\u001b[0m\u001b[0;36m9\u001b[0m\u001b[0;34m,\u001b[0m \u001b[0;36m8\u001b[0m\u001b[0;34m,\u001b[0m \u001b[0;36m7\u001b[0m\u001b[0;34m]\u001b[0m\u001b[0;34m,\u001b[0m\u001b[0;34m\u001b[0m\u001b[0;34m\u001b[0m\u001b[0m\n\u001b[1;32m      5\u001b[0m     ],\n",
            "\u001b[0;31mValueError\u001b[0m: setting an array element with a sequence. The requested array has an inhomogeneous shape after 1 dimensions. The detected shape was (2,) + inhomogeneous part."
          ]
        }
      ],
      "source": [
        "C = np.array([\n",
        "    [\n",
        "        [12, 11, 10],\n",
        "        [9, 8, 7],\n",
        "    ],\n",
        "    [\n",
        "        [6, 5, 4]\n",
        "    ]\n",
        "])"
      ]
    },
    {
      "cell_type": "code",
      "execution_count": 26,
      "metadata": {
        "id": "gQdGgtFeP4JO",
        "outputId": "3ab3b15b-1bbd-4881-886e-cf338bda7f9b",
        "colab": {
          "base_uri": "https://localhost:8080/",
          "height": 144
        }
      },
      "outputs": [
        {
          "output_type": "error",
          "ename": "NameError",
          "evalue": "name 'C' is not defined",
          "traceback": [
            "\u001b[0;31m---------------------------------------------------------------------------\u001b[0m",
            "\u001b[0;31mNameError\u001b[0m                                 Traceback (most recent call last)",
            "\u001b[0;32m<ipython-input-26-9f0b84e00210>\u001b[0m in \u001b[0;36m<cell line: 1>\u001b[0;34m()\u001b[0m\n\u001b[0;32m----> 1\u001b[0;31m \u001b[0mC\u001b[0m\u001b[0;34m.\u001b[0m\u001b[0mdtype\u001b[0m\u001b[0;34m\u001b[0m\u001b[0;34m\u001b[0m\u001b[0m\n\u001b[0m",
            "\u001b[0;31mNameError\u001b[0m: name 'C' is not defined"
          ]
        }
      ],
      "source": [
        "C.dtype"
      ]
    },
    {
      "cell_type": "code",
      "execution_count": 27,
      "metadata": {
        "id": "ycOGCMdcP4JO",
        "outputId": "86cd51a7-3561-43d7-e360-640530241844",
        "colab": {
          "base_uri": "https://localhost:8080/",
          "height": 144
        }
      },
      "outputs": [
        {
          "output_type": "error",
          "ename": "NameError",
          "evalue": "name 'C' is not defined",
          "traceback": [
            "\u001b[0;31m---------------------------------------------------------------------------\u001b[0m",
            "\u001b[0;31mNameError\u001b[0m                                 Traceback (most recent call last)",
            "\u001b[0;32m<ipython-input-27-5305eb19dcc0>\u001b[0m in \u001b[0;36m<cell line: 1>\u001b[0;34m()\u001b[0m\n\u001b[0;32m----> 1\u001b[0;31m \u001b[0mC\u001b[0m\u001b[0;34m.\u001b[0m\u001b[0mshape\u001b[0m\u001b[0;34m\u001b[0m\u001b[0;34m\u001b[0m\u001b[0m\n\u001b[0m",
            "\u001b[0;31mNameError\u001b[0m: name 'C' is not defined"
          ]
        }
      ],
      "source": [
        "C.shape"
      ]
    },
    {
      "cell_type": "code",
      "execution_count": null,
      "metadata": {
        "id": "5kVGq01vP4JO",
        "outputId": "8f00d5f9-250d-45ce-ee69-2dd537edef73"
      },
      "outputs": [
        {
          "data": {
            "text/plain": [
              "2"
            ]
          },
          "execution_count": 35,
          "metadata": {},
          "output_type": "execute_result"
        }
      ],
      "source": [
        "C.size"
      ]
    },
    {
      "cell_type": "code",
      "execution_count": null,
      "metadata": {
        "id": "oS5kvuciP4JO"
      },
      "outputs": [],
      "source": [
        "type(C[0])"
      ]
    },
    {
      "cell_type": "markdown",
      "metadata": {
        "id": "r4F-lTjwP4JO"
      },
      "source": [
        "![green-divider](https://user-images.githubusercontent.com/7065401/52071924-c003ad80-2562-11e9-8297-1c6595f8a7ff.png)\n",
        "\n",
        "## Indexing and Slicing of Matrices"
      ]
    },
    {
      "cell_type": "code",
      "execution_count": 28,
      "metadata": {
        "id": "AKy9jAAfP4JO"
      },
      "outputs": [],
      "source": [
        "# Square matrix\n",
        "A = np.array([\n",
        "#.   0. 1. 2\n",
        "    [1, 2, 3], # 0\n",
        "    [4, 5, 6], # 1\n",
        "    [7, 8, 9]  # 2\n",
        "])"
      ]
    },
    {
      "cell_type": "code",
      "execution_count": 29,
      "metadata": {
        "id": "oeKiIyKqP4JO",
        "outputId": "40212b01-82d8-4201-ad60-559bfc0f9389",
        "colab": {
          "base_uri": "https://localhost:8080/"
        }
      },
      "outputs": [
        {
          "output_type": "execute_result",
          "data": {
            "text/plain": [
              "array([4, 5, 6])"
            ]
          },
          "metadata": {},
          "execution_count": 29
        }
      ],
      "source": [
        "A[1]"
      ]
    },
    {
      "cell_type": "code",
      "execution_count": 30,
      "metadata": {
        "id": "pmS78ZIJP4JO",
        "outputId": "173e86be-9c73-4199-b02e-7a64d7cc19d8",
        "colab": {
          "base_uri": "https://localhost:8080/"
        }
      },
      "outputs": [
        {
          "output_type": "execute_result",
          "data": {
            "text/plain": [
              "4"
            ]
          },
          "metadata": {},
          "execution_count": 30
        }
      ],
      "source": [
        "A[1][0]"
      ]
    },
    {
      "cell_type": "markdown",
      "source": [
        "There is a better way to access elements. The below code represents how, where d=dimension"
      ],
      "metadata": {
        "id": "Stm8Lnl-Xxpw"
      }
    },
    {
      "cell_type": "code",
      "execution_count": null,
      "metadata": {
        "id": "flUntO-QP4JO"
      },
      "outputs": [],
      "source": [
        "\n",
        "# A[d1, d2, d3, d4]"
      ]
    },
    {
      "cell_type": "markdown",
      "source": [
        "In this example below, it is saying in Array A, select the first element in the 2nd row."
      ],
      "metadata": {
        "id": "RyMJnJSEX4_V"
      }
    },
    {
      "cell_type": "code",
      "execution_count": 31,
      "metadata": {
        "id": "PwGqB-X-P4JO",
        "outputId": "c2173b7f-35af-424a-d6c1-66282da0c30e",
        "colab": {
          "base_uri": "https://localhost:8080/"
        }
      },
      "outputs": [
        {
          "output_type": "execute_result",
          "data": {
            "text/plain": [
              "4"
            ]
          },
          "metadata": {},
          "execution_count": 31
        }
      ],
      "source": [
        "A[1, 0]"
      ]
    },
    {
      "cell_type": "markdown",
      "source": [
        "In this example, it is saying for Array A, select the first and 2nd row. Remember the index 2, is EXCLUSIVE - so it does not include the 3rd row."
      ],
      "metadata": {
        "id": "6tQX7R_vX_gN"
      }
    },
    {
      "cell_type": "code",
      "execution_count": 33,
      "metadata": {
        "scrolled": true,
        "id": "8tCTAMTpP4JO",
        "outputId": "227bcf3d-901b-4210-a084-3ad71d998c7f",
        "colab": {
          "base_uri": "https://localhost:8080/"
        }
      },
      "outputs": [
        {
          "output_type": "execute_result",
          "data": {
            "text/plain": [
              "array([[1, 2, 3],\n",
              "       [4, 5, 6]])"
            ]
          },
          "metadata": {},
          "execution_count": 33
        }
      ],
      "source": [
        "A[0:2]"
      ]
    },
    {
      "cell_type": "markdown",
      "source": [
        "In this example, this selects ALL rows, and then the second part, following the comma, will select all elements up to the 3rd one (where the 3rd element in EXCLUDED)"
      ],
      "metadata": {
        "id": "Jx6bOh4IYIlO"
      }
    },
    {
      "cell_type": "code",
      "execution_count": 34,
      "metadata": {
        "id": "I-j8LXq0P4JP",
        "outputId": "46203fc5-9eb3-4a11-a068-38776c487784",
        "colab": {
          "base_uri": "https://localhost:8080/"
        }
      },
      "outputs": [
        {
          "output_type": "execute_result",
          "data": {
            "text/plain": [
              "array([[1, 2],\n",
              "       [4, 5],\n",
              "       [7, 8]])"
            ]
          },
          "metadata": {},
          "execution_count": 34
        }
      ],
      "source": [
        "A[:, :2]"
      ]
    },
    {
      "cell_type": "markdown",
      "source": [
        "I believe in this example, the first 2 rows are selected, and the first 2 elements in the rows are selected."
      ],
      "metadata": {
        "id": "eWg8Oc78Yz9u"
      }
    },
    {
      "cell_type": "code",
      "execution_count": 35,
      "metadata": {
        "id": "1SmdJZxgP4JP",
        "outputId": "aaa50d3a-523f-4017-c2e2-7802ebb3de29",
        "colab": {
          "base_uri": "https://localhost:8080/"
        }
      },
      "outputs": [
        {
          "output_type": "execute_result",
          "data": {
            "text/plain": [
              "array([[1, 2],\n",
              "       [4, 5]])"
            ]
          },
          "metadata": {},
          "execution_count": 35
        }
      ],
      "source": [
        "A[:2, :2]"
      ]
    },
    {
      "cell_type": "markdown",
      "source": [
        "In this example, the first 2 rows will be selected. And then all elements started from the 3rd element all the way to the end of the elements in the row will be selected"
      ],
      "metadata": {
        "id": "p74uaXeSY8N4"
      }
    },
    {
      "cell_type": "code",
      "execution_count": null,
      "metadata": {
        "id": "6SsPPr9bP4JP",
        "outputId": "03ebda41-5246-4d11-b76a-951e50bcdb54"
      },
      "outputs": [
        {
          "data": {
            "text/plain": [
              "array([[3],\n",
              "       [6]])"
            ]
          },
          "execution_count": 43,
          "metadata": {},
          "output_type": "execute_result"
        }
      ],
      "source": [
        "A[:2, 2:]"
      ]
    },
    {
      "cell_type": "code",
      "execution_count": 36,
      "metadata": {
        "id": "hxNE7TxmP4JP",
        "outputId": "e83d44bd-9f37-4fef-979e-79ed2245176c",
        "colab": {
          "base_uri": "https://localhost:8080/"
        }
      },
      "outputs": [
        {
          "output_type": "execute_result",
          "data": {
            "text/plain": [
              "array([[1, 2, 3],\n",
              "       [4, 5, 6],\n",
              "       [7, 8, 9]])"
            ]
          },
          "metadata": {},
          "execution_count": 36
        }
      ],
      "source": [
        "A"
      ]
    },
    {
      "cell_type": "markdown",
      "source": [
        "The below code is saying for the second row in the array, they will add this row of values"
      ],
      "metadata": {
        "id": "Eza_TCE8ZKkq"
      }
    },
    {
      "cell_type": "code",
      "execution_count": 37,
      "metadata": {
        "id": "AININ7nSP4JP"
      },
      "outputs": [],
      "source": [
        "A[1] = np.array([10, 10, 10])"
      ]
    },
    {
      "cell_type": "code",
      "execution_count": 39,
      "metadata": {
        "id": "waAbikUkP4JP",
        "outputId": "f2b7dbd8-f4e2-4cae-864b-bbfdc6be8da2",
        "colab": {
          "base_uri": "https://localhost:8080/"
        }
      },
      "outputs": [
        {
          "output_type": "execute_result",
          "data": {
            "text/plain": [
              "array([[ 1,  2,  3],\n",
              "       [10, 10, 10],\n",
              "       [ 7,  8,  9]])"
            ]
          },
          "metadata": {},
          "execution_count": 39
        }
      ],
      "source": [
        "A"
      ]
    },
    {
      "cell_type": "markdown",
      "source": [
        "In the below example, this is called \"expanding\" an array. So a single value is passed through, but that value is applied as each element in the array\n"
      ],
      "metadata": {
        "id": "7Usz7PqpZert"
      }
    },
    {
      "cell_type": "code",
      "execution_count": 40,
      "metadata": {
        "id": "yRi6STR_P4JP"
      },
      "outputs": [],
      "source": [
        "A[2] = 99"
      ]
    },
    {
      "cell_type": "code",
      "execution_count": 41,
      "metadata": {
        "id": "Oj8ucr3_P4JP",
        "outputId": "61a7e122-33f5-4026-faa8-c5818b56bf40",
        "colab": {
          "base_uri": "https://localhost:8080/"
        }
      },
      "outputs": [
        {
          "output_type": "execute_result",
          "data": {
            "text/plain": [
              "array([[ 1,  2,  3],\n",
              "       [10, 10, 10],\n",
              "       [99, 99, 99]])"
            ]
          },
          "metadata": {},
          "execution_count": 41
        }
      ],
      "source": [
        "A"
      ]
    },
    {
      "cell_type": "markdown",
      "metadata": {
        "id": "zBOGAWpsP4JP"
      },
      "source": [
        "![green-divider](https://user-images.githubusercontent.com/7065401/52071924-c003ad80-2562-11e9-8297-1c6595f8a7ff.png)\n",
        "\n",
        "## Summary statistics"
      ]
    },
    {
      "cell_type": "code",
      "execution_count": 42,
      "metadata": {
        "id": "EEHNj854P4JP"
      },
      "outputs": [],
      "source": [
        "a = np.array([1, 2, 3, 4])"
      ]
    },
    {
      "cell_type": "code",
      "execution_count": 43,
      "metadata": {
        "id": "ZXrymOAfP4JP",
        "outputId": "5db6f202-4091-4098-f553-789607e90cc9",
        "colab": {
          "base_uri": "https://localhost:8080/"
        }
      },
      "outputs": [
        {
          "output_type": "execute_result",
          "data": {
            "text/plain": [
              "10"
            ]
          },
          "metadata": {},
          "execution_count": 43
        }
      ],
      "source": [
        "a.sum()"
      ]
    },
    {
      "cell_type": "code",
      "execution_count": 44,
      "metadata": {
        "id": "OoCSZVRZP4JP",
        "outputId": "2a032f9e-473e-4f8c-c2c9-954b7882e605",
        "colab": {
          "base_uri": "https://localhost:8080/"
        }
      },
      "outputs": [
        {
          "output_type": "execute_result",
          "data": {
            "text/plain": [
              "2.5"
            ]
          },
          "metadata": {},
          "execution_count": 44
        }
      ],
      "source": [
        "a.mean()"
      ]
    },
    {
      "cell_type": "code",
      "execution_count": 45,
      "metadata": {
        "id": "Aj1zeN05P4JP",
        "outputId": "efd04349-76d3-4dfe-8459-7c44384eb7f6",
        "colab": {
          "base_uri": "https://localhost:8080/"
        }
      },
      "outputs": [
        {
          "output_type": "execute_result",
          "data": {
            "text/plain": [
              "1.118033988749895"
            ]
          },
          "metadata": {},
          "execution_count": 45
        }
      ],
      "source": [
        "a.std()"
      ]
    },
    {
      "cell_type": "code",
      "execution_count": 46,
      "metadata": {
        "id": "mfDut2J2P4JP",
        "outputId": "72402141-3ab2-435d-8679-980b3fc11421",
        "colab": {
          "base_uri": "https://localhost:8080/"
        }
      },
      "outputs": [
        {
          "output_type": "execute_result",
          "data": {
            "text/plain": [
              "1.25"
            ]
          },
          "metadata": {},
          "execution_count": 46
        }
      ],
      "source": [
        "a.var()"
      ]
    },
    {
      "cell_type": "code",
      "execution_count": 47,
      "metadata": {
        "id": "gV4VP3QqP4JP"
      },
      "outputs": [],
      "source": [
        "A = np.array([\n",
        "    [1, 2, 3],\n",
        "    [4, 5, 6],\n",
        "    [7, 8, 9]\n",
        "])"
      ]
    },
    {
      "cell_type": "code",
      "execution_count": null,
      "metadata": {
        "id": "2osV9GJdP4JP",
        "outputId": "acab3e46-6494-4edd-8839-50543def5e39"
      },
      "outputs": [
        {
          "data": {
            "text/plain": [
              "45"
            ]
          },
          "execution_count": 55,
          "metadata": {},
          "output_type": "execute_result"
        }
      ],
      "source": [
        "A.sum()"
      ]
    },
    {
      "cell_type": "code",
      "execution_count": null,
      "metadata": {
        "id": "ytiGmwG5P4JP",
        "outputId": "3648523f-fbfb-43d6-b698-de766ed45d9c"
      },
      "outputs": [
        {
          "data": {
            "text/plain": [
              "5.0"
            ]
          },
          "execution_count": 56,
          "metadata": {},
          "output_type": "execute_result"
        }
      ],
      "source": [
        "A.mean()"
      ]
    },
    {
      "cell_type": "code",
      "execution_count": null,
      "metadata": {
        "id": "ROCPxy7pP4JP",
        "outputId": "5a979b87-8838-4a03-fc43-40d8a7269e8c"
      },
      "outputs": [
        {
          "data": {
            "text/plain": [
              "2.581988897471611"
            ]
          },
          "execution_count": 57,
          "metadata": {},
          "output_type": "execute_result"
        }
      ],
      "source": [
        "A.std()"
      ]
    },
    {
      "cell_type": "markdown",
      "source": [
        "Axis = 0, is the x axis I believe, or the ROW"
      ],
      "metadata": {
        "id": "wkU0aGDtZyqH"
      }
    },
    {
      "cell_type": "code",
      "execution_count": null,
      "metadata": {
        "id": "2xHGa7MeP4JQ",
        "outputId": "6ed067d8-bc09-410b-d7b8-75f1457e26ab"
      },
      "outputs": [
        {
          "data": {
            "text/plain": [
              "array([12, 15, 18])"
            ]
          },
          "execution_count": 58,
          "metadata": {},
          "output_type": "execute_result"
        }
      ],
      "source": [
        "A.sum(axis=0)"
      ]
    },
    {
      "cell_type": "markdown",
      "source": [
        "Axis = 1, is the y axis I believe, or the COLUMN? There can be even more axises as the number of dimensions increases\n",
        "\n"
      ],
      "metadata": {
        "id": "2FcVpyxnZ2AS"
      }
    },
    {
      "cell_type": "code",
      "execution_count": 48,
      "metadata": {
        "id": "R_c2Qsl3P4JQ",
        "outputId": "02bd28b7-cab5-44d1-9c65-fb731ba7341b",
        "colab": {
          "base_uri": "https://localhost:8080/"
        }
      },
      "outputs": [
        {
          "output_type": "execute_result",
          "data": {
            "text/plain": [
              "array([ 6, 15, 24])"
            ]
          },
          "metadata": {},
          "execution_count": 48
        }
      ],
      "source": [
        "A.sum(axis=1)"
      ]
    },
    {
      "cell_type": "code",
      "execution_count": null,
      "metadata": {
        "scrolled": true,
        "id": "jDK307D7P4JQ",
        "outputId": "4a03ea09-f05b-4857-9c97-05a86f2a6555"
      },
      "outputs": [
        {
          "data": {
            "text/plain": [
              "array([4., 5., 6.])"
            ]
          },
          "execution_count": 60,
          "metadata": {},
          "output_type": "execute_result"
        }
      ],
      "source": [
        "A.mean(axis=0)"
      ]
    },
    {
      "cell_type": "code",
      "execution_count": null,
      "metadata": {
        "id": "zxjI40YTP4JQ",
        "outputId": "56d8594a-ddfd-417a-f4d6-22d497c4edc6"
      },
      "outputs": [
        {
          "data": {
            "text/plain": [
              "array([2., 5., 8.])"
            ]
          },
          "execution_count": 61,
          "metadata": {},
          "output_type": "execute_result"
        }
      ],
      "source": [
        "A.mean(axis=1)"
      ]
    },
    {
      "cell_type": "code",
      "execution_count": null,
      "metadata": {
        "id": "6p63mzN0P4JQ",
        "outputId": "dcb33333-c69d-4fa3-f03b-3af8474c9d49"
      },
      "outputs": [
        {
          "data": {
            "text/plain": [
              "array([2.44948974, 2.44948974, 2.44948974])"
            ]
          },
          "execution_count": 62,
          "metadata": {},
          "output_type": "execute_result"
        }
      ],
      "source": [
        "A.std(axis=0)"
      ]
    },
    {
      "cell_type": "code",
      "execution_count": null,
      "metadata": {
        "scrolled": true,
        "id": "d995n7T5P4JQ",
        "outputId": "4e6e7ba7-8c84-4b0f-8841-fe48c32b807f"
      },
      "outputs": [
        {
          "data": {
            "text/plain": [
              "array([0.81649658, 0.81649658, 0.81649658])"
            ]
          },
          "execution_count": 63,
          "metadata": {},
          "output_type": "execute_result"
        }
      ],
      "source": [
        "A.std(axis=1)"
      ]
    },
    {
      "cell_type": "markdown",
      "metadata": {
        "id": "3SD8ncl-P4JQ"
      },
      "source": [
        "And [many more](https://docs.scipy.org/doc/numpy-1.13.0/reference/arrays.ndarray.html#array-methods)..."
      ]
    },
    {
      "cell_type": "markdown",
      "metadata": {
        "id": "TTKZq-r-P4JQ"
      },
      "source": [
        "![green-divider](https://user-images.githubusercontent.com/7065401/52071924-c003ad80-2562-11e9-8297-1c6595f8a7ff.png)\n",
        "\n",
        "## Broadcasting and Vectorized operations"
      ]
    },
    {
      "cell_type": "code",
      "execution_count": 49,
      "metadata": {
        "id": "g6W9_79dP4JQ"
      },
      "outputs": [],
      "source": [
        "a = np.arange(4)"
      ]
    },
    {
      "cell_type": "code",
      "execution_count": 50,
      "metadata": {
        "id": "LXC3UIPnP4JQ",
        "outputId": "a4a21502-8adf-46df-e909-f745824f1617",
        "colab": {
          "base_uri": "https://localhost:8080/"
        }
      },
      "outputs": [
        {
          "output_type": "execute_result",
          "data": {
            "text/plain": [
              "array([0, 1, 2, 3])"
            ]
          },
          "metadata": {},
          "execution_count": 50
        }
      ],
      "source": [
        "a"
      ]
    },
    {
      "cell_type": "markdown",
      "source": [
        "Vectorization of an array, says that you add 10 to each element in this array below"
      ],
      "metadata": {
        "id": "AVC2FwMdanmy"
      }
    },
    {
      "cell_type": "code",
      "execution_count": 51,
      "metadata": {
        "id": "rdhDz8wwP4JQ",
        "outputId": "4e70686d-625e-4250-8cd6-48fc8cf34e22",
        "colab": {
          "base_uri": "https://localhost:8080/"
        }
      },
      "outputs": [
        {
          "output_type": "execute_result",
          "data": {
            "text/plain": [
              "array([10, 11, 12, 13])"
            ]
          },
          "metadata": {},
          "execution_count": 51
        }
      ],
      "source": [
        "a + 10"
      ]
    },
    {
      "cell_type": "code",
      "execution_count": 52,
      "metadata": {
        "id": "DoWviYFMP4JQ",
        "outputId": "c43ebe61-e043-45d1-adea-6182dd468835",
        "colab": {
          "base_uri": "https://localhost:8080/"
        }
      },
      "outputs": [
        {
          "output_type": "execute_result",
          "data": {
            "text/plain": [
              "array([ 0, 10, 20, 30])"
            ]
          },
          "metadata": {},
          "execution_count": 52
        }
      ],
      "source": [
        "a * 10"
      ]
    },
    {
      "cell_type": "code",
      "execution_count": 53,
      "metadata": {
        "id": "LtS6I5UCP4JQ",
        "outputId": "679b7ed7-4d60-4b9b-9d30-cc93b01c6c59",
        "colab": {
          "base_uri": "https://localhost:8080/"
        }
      },
      "outputs": [
        {
          "output_type": "execute_result",
          "data": {
            "text/plain": [
              "array([0, 1, 2, 3])"
            ]
          },
          "metadata": {},
          "execution_count": 53
        }
      ],
      "source": [
        "a"
      ]
    },
    {
      "cell_type": "markdown",
      "source": [
        "In the below example, you are BROADCASTING, and changing the array by adding 100 to each element in the array. now it is IMMUTABLE. A has been modified"
      ],
      "metadata": {
        "id": "MQRvkMvrbB8v"
      }
    },
    {
      "cell_type": "code",
      "execution_count": 55,
      "metadata": {
        "id": "-sT0V1pHP4JQ"
      },
      "outputs": [],
      "source": [
        "a += 100"
      ]
    },
    {
      "cell_type": "code",
      "execution_count": 56,
      "metadata": {
        "id": "JQ7YdJqCP4JQ",
        "outputId": "fdcd72d5-4aea-4691-82cc-0958ff6bba7b",
        "colab": {
          "base_uri": "https://localhost:8080/"
        }
      },
      "outputs": [
        {
          "output_type": "execute_result",
          "data": {
            "text/plain": [
              "array([200, 201, 202, 203])"
            ]
          },
          "metadata": {},
          "execution_count": 56
        }
      ],
      "source": [
        "a"
      ]
    },
    {
      "cell_type": "code",
      "execution_count": 58,
      "metadata": {
        "id": "6Xbn4VQ5P4JQ"
      },
      "outputs": [],
      "source": [
        "l = [0, 1, 2, 3]"
      ]
    },
    {
      "cell_type": "markdown",
      "source": [
        "The below is a list comprehension. Kind of like a shortcut to apply operations for each element in the array l"
      ],
      "metadata": {
        "id": "zcl-ONJPbQn0"
      }
    },
    {
      "cell_type": "code",
      "execution_count": null,
      "metadata": {
        "id": "JPl3aCmRP4JQ",
        "outputId": "661e9600-44a2-46b1-b054-ffc1ea25a988"
      },
      "outputs": [
        {
          "data": {
            "text/plain": [
              "[0, 10, 20, 30]"
            ]
          },
          "execution_count": 75,
          "metadata": {},
          "output_type": "execute_result"
        }
      ],
      "source": [
        "[i * 10 for i in l]"
      ]
    },
    {
      "cell_type": "code",
      "execution_count": 59,
      "metadata": {
        "id": "G3i5BGX0P4JQ"
      },
      "outputs": [],
      "source": [
        "a = np.arange(4)"
      ]
    },
    {
      "cell_type": "code",
      "execution_count": 60,
      "metadata": {
        "id": "k2bu9UgiP4JR",
        "outputId": "8a84b498-9663-4e09-c240-f8d9c1ad22d9",
        "colab": {
          "base_uri": "https://localhost:8080/"
        }
      },
      "outputs": [
        {
          "output_type": "execute_result",
          "data": {
            "text/plain": [
              "array([0, 1, 2, 3])"
            ]
          },
          "metadata": {},
          "execution_count": 60
        }
      ],
      "source": [
        "a"
      ]
    },
    {
      "cell_type": "code",
      "execution_count": 61,
      "metadata": {
        "id": "WAXjhHj8P4JR"
      },
      "outputs": [],
      "source": [
        "b = np.array([10, 10, 10, 10])"
      ]
    },
    {
      "cell_type": "code",
      "execution_count": 62,
      "metadata": {
        "id": "sFNBnbhyP4JR",
        "outputId": "c5e856e5-7bab-49b0-9f44-c235c4381da7",
        "colab": {
          "base_uri": "https://localhost:8080/"
        }
      },
      "outputs": [
        {
          "output_type": "execute_result",
          "data": {
            "text/plain": [
              "array([10, 10, 10, 10])"
            ]
          },
          "metadata": {},
          "execution_count": 62
        }
      ],
      "source": [
        "b"
      ]
    },
    {
      "cell_type": "code",
      "execution_count": 63,
      "metadata": {
        "id": "P2cWh22GP4JR",
        "outputId": "e539252e-6f5e-44e6-9d88-c8b8945a11d1",
        "colab": {
          "base_uri": "https://localhost:8080/"
        }
      },
      "outputs": [
        {
          "output_type": "execute_result",
          "data": {
            "text/plain": [
              "array([10, 11, 12, 13])"
            ]
          },
          "metadata": {},
          "execution_count": 63
        }
      ],
      "source": [
        "a + b"
      ]
    },
    {
      "cell_type": "code",
      "execution_count": 64,
      "metadata": {
        "id": "-peWtbUrP4JR",
        "outputId": "10ffe2b2-1f90-4933-f5fa-08b115053b9a",
        "colab": {
          "base_uri": "https://localhost:8080/"
        }
      },
      "outputs": [
        {
          "output_type": "execute_result",
          "data": {
            "text/plain": [
              "array([ 0, 10, 20, 30])"
            ]
          },
          "metadata": {},
          "execution_count": 64
        }
      ],
      "source": [
        "a * b"
      ]
    },
    {
      "cell_type": "markdown",
      "metadata": {
        "id": "pFk8T7IvP4JR"
      },
      "source": [
        "![green-divider](https://user-images.githubusercontent.com/7065401/52071924-c003ad80-2562-11e9-8297-1c6595f8a7ff.png)\n",
        "\n",
        "## Boolean arrays\n",
        "_(Also called masks)_"
      ]
    },
    {
      "cell_type": "code",
      "execution_count": 65,
      "metadata": {
        "id": "-ewMnsQHP4JR"
      },
      "outputs": [],
      "source": [
        "a = np.arange(4)"
      ]
    },
    {
      "cell_type": "code",
      "execution_count": 66,
      "metadata": {
        "id": "7GYEAuRsP4JR",
        "outputId": "7da4c2a3-3da5-416e-d4f8-27b957421686",
        "colab": {
          "base_uri": "https://localhost:8080/"
        }
      },
      "outputs": [
        {
          "output_type": "execute_result",
          "data": {
            "text/plain": [
              "array([0, 1, 2, 3])"
            ]
          },
          "metadata": {},
          "execution_count": 66
        }
      ],
      "source": [
        "a"
      ]
    },
    {
      "cell_type": "code",
      "execution_count": 67,
      "metadata": {
        "id": "qosVLfexP4JR",
        "outputId": "90c91766-0938-4864-a3e4-3c5d9e40c441",
        "colab": {
          "base_uri": "https://localhost:8080/"
        }
      },
      "outputs": [
        {
          "output_type": "execute_result",
          "data": {
            "text/plain": [
              "(0, 3)"
            ]
          },
          "metadata": {},
          "execution_count": 67
        }
      ],
      "source": [
        "a[0], a[-1]"
      ]
    },
    {
      "cell_type": "code",
      "execution_count": 69,
      "metadata": {
        "id": "ZyoeyQjfP4JR",
        "outputId": "17eae3b4-47cc-4724-f0cf-461e6f02ecda",
        "colab": {
          "base_uri": "https://localhost:8080/"
        }
      },
      "outputs": [
        {
          "output_type": "execute_result",
          "data": {
            "text/plain": [
              "array([0, 3])"
            ]
          },
          "metadata": {},
          "execution_count": 69
        }
      ],
      "source": [
        "a[[0, -1]]"
      ]
    },
    {
      "cell_type": "markdown",
      "source": [
        "You use boolean values to select elements in the below example\n"
      ],
      "metadata": {
        "id": "qss1FyWXcggA"
      }
    },
    {
      "cell_type": "code",
      "execution_count": 70,
      "metadata": {
        "id": "kbxE0eAlP4JR",
        "outputId": "ff8dac96-51e2-48bd-f917-0f0d9850e58a",
        "colab": {
          "base_uri": "https://localhost:8080/"
        }
      },
      "outputs": [
        {
          "output_type": "execute_result",
          "data": {
            "text/plain": [
              "array([0, 3])"
            ]
          },
          "metadata": {},
          "execution_count": 70
        }
      ],
      "source": [
        "a[[True, False, False, True]]"
      ]
    },
    {
      "cell_type": "code",
      "execution_count": 71,
      "metadata": {
        "id": "ImOUUh9bP4JR",
        "outputId": "0dd8fa99-37c2-495b-fdf5-3bc09714d511",
        "colab": {
          "base_uri": "https://localhost:8080/"
        }
      },
      "outputs": [
        {
          "output_type": "execute_result",
          "data": {
            "text/plain": [
              "array([0, 1, 2, 3])"
            ]
          },
          "metadata": {},
          "execution_count": 71
        }
      ],
      "source": [
        "a"
      ]
    },
    {
      "cell_type": "markdown",
      "source": [
        "You can broadcast boolean operations that can evaluate to true or false"
      ],
      "metadata": {
        "id": "ePLkCVDWctaG"
      }
    },
    {
      "cell_type": "code",
      "execution_count": 72,
      "metadata": {
        "id": "GOQyNhGoP4JR",
        "outputId": "546de3fd-ab55-40b3-805a-ad0f2e5d15dd",
        "colab": {
          "base_uri": "https://localhost:8080/"
        }
      },
      "outputs": [
        {
          "output_type": "execute_result",
          "data": {
            "text/plain": [
              "array([False, False,  True,  True])"
            ]
          },
          "metadata": {},
          "execution_count": 72
        }
      ],
      "source": [
        "a >= 2"
      ]
    },
    {
      "cell_type": "code",
      "execution_count": null,
      "metadata": {
        "id": "KQTl9qX2P4JR",
        "outputId": "068bfda3-3add-4aa7-df3c-9b88ffde3837"
      },
      "outputs": [
        {
          "data": {
            "text/plain": [
              "array([2, 3])"
            ]
          },
          "execution_count": 90,
          "metadata": {},
          "output_type": "execute_result"
        }
      ],
      "source": [
        "a[a >= 2]"
      ]
    },
    {
      "cell_type": "code",
      "execution_count": null,
      "metadata": {
        "id": "3AQQR-eQP4JR",
        "outputId": "076ea468-8c05-4a33-a739-d317cc64b920"
      },
      "outputs": [
        {
          "data": {
            "text/plain": [
              "1.5"
            ]
          },
          "execution_count": 91,
          "metadata": {},
          "output_type": "execute_result"
        }
      ],
      "source": [
        "a.mean()"
      ]
    },
    {
      "cell_type": "code",
      "execution_count": null,
      "metadata": {
        "scrolled": true,
        "id": "PEuq68OfP4JR",
        "outputId": "bc7cb3ef-cd54-4558-be68-8c38905891b6"
      },
      "outputs": [
        {
          "data": {
            "text/plain": [
              "array([2, 3])"
            ]
          },
          "execution_count": 92,
          "metadata": {},
          "output_type": "execute_result"
        }
      ],
      "source": [
        "a[a > a.mean()]"
      ]
    },
    {
      "cell_type": "code",
      "execution_count": null,
      "metadata": {
        "id": "Yxh2roKVP4JR",
        "outputId": "0ee2a1a2-0a7b-4684-e0ab-5300fc09a94e"
      },
      "outputs": [
        {
          "data": {
            "text/plain": [
              "array([0, 1])"
            ]
          },
          "execution_count": 93,
          "metadata": {},
          "output_type": "execute_result"
        }
      ],
      "source": [
        "a[~(a > a.mean())]"
      ]
    },
    {
      "cell_type": "code",
      "execution_count": null,
      "metadata": {
        "id": "kHYXHiiPP4JR",
        "outputId": "2e7b5e23-dbb0-446e-ac63-4b055f6f4532"
      },
      "outputs": [
        {
          "data": {
            "text/plain": [
              "array([0, 1])"
            ]
          },
          "execution_count": 94,
          "metadata": {},
          "output_type": "execute_result"
        }
      ],
      "source": [
        "a[(a == 0) | (a == 1)]"
      ]
    },
    {
      "cell_type": "code",
      "execution_count": null,
      "metadata": {
        "id": "3DqYhOmXP4JR",
        "outputId": "7de8a321-76c0-48e1-ec50-94702e0d4ee9"
      },
      "outputs": [
        {
          "data": {
            "text/plain": [
              "array([0, 2])"
            ]
          },
          "execution_count": 95,
          "metadata": {},
          "output_type": "execute_result"
        }
      ],
      "source": [
        "a[(a <= 2) & (a % 2 == 0)]"
      ]
    },
    {
      "cell_type": "code",
      "execution_count": null,
      "metadata": {
        "id": "wMt0YQQnP4JS"
      },
      "outputs": [],
      "source": [
        "A = np.random.randint(100, size=(3, 3))"
      ]
    },
    {
      "cell_type": "code",
      "execution_count": null,
      "metadata": {
        "id": "FVqbneD_P4JS",
        "outputId": "04c16968-a45e-40a6-eb2e-3c5be7edd4b5"
      },
      "outputs": [
        {
          "data": {
            "text/plain": [
              "array([[71,  6, 42],\n",
              "       [40, 94, 24],\n",
              "       [ 2, 85, 36]])"
            ]
          },
          "execution_count": 97,
          "metadata": {},
          "output_type": "execute_result"
        }
      ],
      "source": [
        "A"
      ]
    },
    {
      "cell_type": "code",
      "execution_count": null,
      "metadata": {
        "id": "jAm-QrGNP4JS",
        "outputId": "ee4c036b-ac30-4baf-87e0-518d1993ba07"
      },
      "outputs": [
        {
          "data": {
            "text/plain": [
              "array([71, 42, 94,  2, 36])"
            ]
          },
          "execution_count": 98,
          "metadata": {},
          "output_type": "execute_result"
        }
      ],
      "source": [
        "A[np.array([\n",
        "    [True, False, True],\n",
        "    [False, True, False],\n",
        "    [True, False, True]\n",
        "])]"
      ]
    },
    {
      "cell_type": "code",
      "execution_count": null,
      "metadata": {
        "id": "sX3jSlYvP4JS",
        "outputId": "a4b3a195-6d08-440d-febe-66fed4c4fc36"
      },
      "outputs": [
        {
          "data": {
            "text/plain": [
              "array([[ True, False,  True],\n",
              "       [ True,  True, False],\n",
              "       [False,  True,  True]])"
            ]
          },
          "execution_count": 99,
          "metadata": {},
          "output_type": "execute_result"
        }
      ],
      "source": [
        "A > 30"
      ]
    },
    {
      "cell_type": "code",
      "execution_count": null,
      "metadata": {
        "id": "jIeI_ouNP4JS",
        "outputId": "3e5c83b6-a947-42d2-b1cb-6d58ddc46573"
      },
      "outputs": [
        {
          "data": {
            "text/plain": [
              "array([71, 42, 40, 94, 85, 36])"
            ]
          },
          "execution_count": 100,
          "metadata": {},
          "output_type": "execute_result"
        }
      ],
      "source": [
        "A[A > 30]"
      ]
    },
    {
      "cell_type": "markdown",
      "metadata": {
        "id": "p-NYyWDvP4JS"
      },
      "source": [
        "![green-divider](https://user-images.githubusercontent.com/7065401/52071924-c003ad80-2562-11e9-8297-1c6595f8a7ff.png)\n",
        "\n",
        "## Linear Algebra"
      ]
    },
    {
      "cell_type": "code",
      "execution_count": null,
      "metadata": {
        "id": "XCFKo3V3P4JS"
      },
      "outputs": [],
      "source": [
        "A = np.array([\n",
        "    [1, 2, 3],\n",
        "    [4, 5, 6],\n",
        "    [7, 8, 9]\n",
        "])"
      ]
    },
    {
      "cell_type": "code",
      "execution_count": null,
      "metadata": {
        "id": "sIZc50z-P4JS"
      },
      "outputs": [],
      "source": [
        "B = np.array([\n",
        "    [6, 5],\n",
        "    [4, 3],\n",
        "    [2, 1]\n",
        "])"
      ]
    },
    {
      "cell_type": "code",
      "execution_count": null,
      "metadata": {
        "id": "-tLg80WaP4JS",
        "outputId": "a6430c2b-e302-416b-a155-d8abdaa83496"
      },
      "outputs": [
        {
          "data": {
            "text/plain": [
              "array([[20, 14],\n",
              "       [56, 41],\n",
              "       [92, 68]])"
            ]
          },
          "execution_count": 103,
          "metadata": {},
          "output_type": "execute_result"
        }
      ],
      "source": [
        "A.dot(B)"
      ]
    },
    {
      "cell_type": "code",
      "execution_count": null,
      "metadata": {
        "id": "3PCk2RHbP4JS",
        "outputId": "1438f548-23ac-4bbc-ea99-dc4e2af0f768"
      },
      "outputs": [
        {
          "data": {
            "text/plain": [
              "array([[20, 14],\n",
              "       [56, 41],\n",
              "       [92, 68]])"
            ]
          },
          "execution_count": 104,
          "metadata": {},
          "output_type": "execute_result"
        }
      ],
      "source": [
        "A @ B"
      ]
    },
    {
      "cell_type": "code",
      "execution_count": null,
      "metadata": {
        "id": "iHTA7jBrP4JS",
        "outputId": "430b5f3f-745e-4e21-899f-23597bc98162"
      },
      "outputs": [
        {
          "data": {
            "text/plain": [
              "array([[6, 4, 2],\n",
              "       [5, 3, 1]])"
            ]
          },
          "execution_count": 105,
          "metadata": {},
          "output_type": "execute_result"
        }
      ],
      "source": [
        "B.T"
      ]
    },
    {
      "cell_type": "code",
      "execution_count": null,
      "metadata": {
        "id": "oPOgIkpJP4JS",
        "outputId": "b1208bbe-dd3e-4867-e4ac-137294494b02"
      },
      "outputs": [
        {
          "data": {
            "text/plain": [
              "array([[1, 2, 3],\n",
              "       [4, 5, 6],\n",
              "       [7, 8, 9]])"
            ]
          },
          "execution_count": 106,
          "metadata": {},
          "output_type": "execute_result"
        }
      ],
      "source": [
        "A"
      ]
    },
    {
      "cell_type": "code",
      "execution_count": null,
      "metadata": {
        "scrolled": true,
        "id": "XT91zyPlP4JS",
        "outputId": "2a2198dc-e376-4d77-ca2a-b06254c57ee2"
      },
      "outputs": [
        {
          "data": {
            "text/plain": [
              "array([[36, 48, 60],\n",
              "       [24, 33, 42]])"
            ]
          },
          "execution_count": 107,
          "metadata": {},
          "output_type": "execute_result"
        }
      ],
      "source": [
        "B.T @ A"
      ]
    },
    {
      "cell_type": "markdown",
      "metadata": {
        "id": "-5Ho_HCKP4JS"
      },
      "source": [
        "![green-divider](https://user-images.githubusercontent.com/7065401/52071924-c003ad80-2562-11e9-8297-1c6595f8a7ff.png)\n",
        "\n",
        "## Size of objects in Memory"
      ]
    },
    {
      "cell_type": "markdown",
      "metadata": {
        "id": "XJMfzeAQP4JS"
      },
      "source": [
        "### Int, floats"
      ]
    },
    {
      "cell_type": "code",
      "execution_count": null,
      "metadata": {
        "id": "vZ2PFRAiP4JS",
        "outputId": "3892f0ba-80ee-4df8-db18-f155b2e508f7"
      },
      "outputs": [
        {
          "data": {
            "text/plain": [
              "28"
            ]
          },
          "execution_count": 108,
          "metadata": {},
          "output_type": "execute_result"
        }
      ],
      "source": [
        "# An integer in Python is > 24bytes\n",
        "sys.getsizeof(1)"
      ]
    },
    {
      "cell_type": "code",
      "execution_count": null,
      "metadata": {
        "scrolled": true,
        "id": "2UC1AoNkP4JS",
        "outputId": "e973ae5f-48a6-4b0b-df10-ec79eb915e51"
      },
      "outputs": [
        {
          "data": {
            "text/plain": [
              "72"
            ]
          },
          "execution_count": 109,
          "metadata": {},
          "output_type": "execute_result"
        }
      ],
      "source": [
        "# Longs are even larger\n",
        "sys.getsizeof(10**100)"
      ]
    },
    {
      "cell_type": "code",
      "execution_count": null,
      "metadata": {
        "scrolled": true,
        "id": "zbYvUPhCP4JS",
        "outputId": "e9292742-0637-4ffd-993e-378b94c146b2"
      },
      "outputs": [
        {
          "data": {
            "text/plain": [
              "8"
            ]
          },
          "execution_count": 110,
          "metadata": {},
          "output_type": "execute_result"
        }
      ],
      "source": [
        "# Numpy size is much smaller\n",
        "np.dtype(int).itemsize"
      ]
    },
    {
      "cell_type": "code",
      "execution_count": null,
      "metadata": {
        "scrolled": true,
        "id": "1X8HixvhP4JS",
        "outputId": "9d563bc7-f8fa-406a-80a7-42b07ae56cff"
      },
      "outputs": [
        {
          "data": {
            "text/plain": [
              "1"
            ]
          },
          "execution_count": 112,
          "metadata": {},
          "output_type": "execute_result"
        }
      ],
      "source": [
        "# Numpy size is much smaller\n",
        "np.dtype(np.int8).itemsize"
      ]
    },
    {
      "cell_type": "code",
      "execution_count": null,
      "metadata": {
        "scrolled": true,
        "id": "mH8xDrZQP4JS",
        "outputId": "f34413c3-4ece-4462-ed8e-1950d5d0962d"
      },
      "outputs": [
        {
          "data": {
            "text/plain": [
              "8"
            ]
          },
          "execution_count": 111,
          "metadata": {},
          "output_type": "execute_result"
        }
      ],
      "source": [
        "np.dtype(float).itemsize"
      ]
    },
    {
      "cell_type": "markdown",
      "metadata": {
        "id": "O3MkhwIDP4JT"
      },
      "source": [
        "### Lists are even larger"
      ]
    },
    {
      "cell_type": "code",
      "execution_count": null,
      "metadata": {
        "id": "FusocsuHP4JT"
      },
      "outputs": [],
      "source": [
        "# A one-element list\n",
        "sys.getsizeof([1])"
      ]
    },
    {
      "cell_type": "code",
      "execution_count": null,
      "metadata": {
        "scrolled": true,
        "id": "l4gaIqwEP4JT"
      },
      "outputs": [],
      "source": [
        "# An array of one element in numpy\n",
        "np.array([1]).nbytes"
      ]
    },
    {
      "cell_type": "markdown",
      "metadata": {
        "id": "4F7nvSyvP4JT"
      },
      "source": [
        "### And performance is also important"
      ]
    },
    {
      "cell_type": "code",
      "execution_count": null,
      "metadata": {
        "id": "9hD5iNlRP4JT"
      },
      "outputs": [],
      "source": [
        "l = list(range(100000))"
      ]
    },
    {
      "cell_type": "code",
      "execution_count": null,
      "metadata": {
        "id": "_FCog_IvP4JT"
      },
      "outputs": [],
      "source": [
        "a = np.arange(100000)"
      ]
    },
    {
      "cell_type": "code",
      "execution_count": null,
      "metadata": {
        "scrolled": true,
        "id": "62A8b0PdP4JT",
        "outputId": "fe1c7356-92f3-40c2-85bb-d29d61444d6e"
      },
      "outputs": [
        {
          "name": "stdout",
          "output_type": "stream",
          "text": [
            "CPU times: user 1.06 ms, sys: 279 µs, total: 1.34 ms\n",
            "Wall time: 701 µs\n"
          ]
        },
        {
          "data": {
            "text/plain": [
              "333328333350000"
            ]
          },
          "execution_count": 119,
          "metadata": {},
          "output_type": "execute_result"
        }
      ],
      "source": [
        "%time np.sum(a ** 2)"
      ]
    },
    {
      "cell_type": "code",
      "execution_count": null,
      "metadata": {
        "scrolled": true,
        "id": "FAAq4JKiP4JT",
        "outputId": "008ca229-5d44-474c-b662-a4ea5c977130"
      },
      "outputs": [
        {
          "name": "stdout",
          "output_type": "stream",
          "text": [
            "CPU times: user 36.1 ms, sys: 0 ns, total: 36.1 ms\n",
            "Wall time: 35.5 ms\n"
          ]
        },
        {
          "data": {
            "text/plain": [
              "333328333350000"
            ]
          },
          "execution_count": 120,
          "metadata": {},
          "output_type": "execute_result"
        }
      ],
      "source": [
        "%time sum([x ** 2 for x in l])"
      ]
    },
    {
      "cell_type": "markdown",
      "metadata": {
        "id": "8va0_3wOP4JT"
      },
      "source": [
        "![green-divider](https://user-images.githubusercontent.com/7065401/52071924-c003ad80-2562-11e9-8297-1c6595f8a7ff.png)\n",
        "\n",
        "## Useful Numpy functions"
      ]
    },
    {
      "cell_type": "markdown",
      "metadata": {
        "id": "UfwE4C6rP4JT"
      },
      "source": [
        "### `random`"
      ]
    },
    {
      "cell_type": "code",
      "execution_count": null,
      "metadata": {
        "id": "ySmcCk_2P4JT"
      },
      "outputs": [],
      "source": [
        "np.random.random(size=2)"
      ]
    },
    {
      "cell_type": "code",
      "execution_count": null,
      "metadata": {
        "id": "9N6qxWySP4JT"
      },
      "outputs": [],
      "source": [
        "np.random.normal(size=2)"
      ]
    },
    {
      "cell_type": "code",
      "execution_count": null,
      "metadata": {
        "id": "cNEtN9_GP4JT"
      },
      "outputs": [],
      "source": [
        "np.random.rand(2, 4)"
      ]
    },
    {
      "cell_type": "markdown",
      "metadata": {
        "id": "OrmL3Lt1P4JT"
      },
      "source": [
        "---\n",
        "### `arange`"
      ]
    },
    {
      "cell_type": "code",
      "execution_count": null,
      "metadata": {
        "id": "6tMbRMxqP4JT"
      },
      "outputs": [],
      "source": [
        "np.arange(10)"
      ]
    },
    {
      "cell_type": "code",
      "execution_count": null,
      "metadata": {
        "id": "ekDqzFiEP4JT"
      },
      "outputs": [],
      "source": [
        "np.arange(5, 10)"
      ]
    },
    {
      "cell_type": "code",
      "execution_count": null,
      "metadata": {
        "id": "QF9Jk94RP4JT"
      },
      "outputs": [],
      "source": [
        "np.arange(0, 1, .1)"
      ]
    },
    {
      "cell_type": "markdown",
      "metadata": {
        "id": "K5PnzUFHP4JT"
      },
      "source": [
        "---\n",
        "### `reshape`"
      ]
    },
    {
      "cell_type": "code",
      "execution_count": null,
      "metadata": {
        "id": "gY2bnRyXP4JT"
      },
      "outputs": [],
      "source": [
        "np.arange(10).reshape(2, 5)"
      ]
    },
    {
      "cell_type": "code",
      "execution_count": null,
      "metadata": {
        "id": "cIg_EpB4P4JT"
      },
      "outputs": [],
      "source": [
        "np.arange(10).reshape(5, 2)"
      ]
    },
    {
      "cell_type": "markdown",
      "metadata": {
        "id": "qQJ3yjHJP4JT"
      },
      "source": [
        "---\n",
        "### `linspace`"
      ]
    },
    {
      "cell_type": "code",
      "execution_count": null,
      "metadata": {
        "id": "lL1RVPZSP4JT"
      },
      "outputs": [],
      "source": [
        "np.linspace(0, 1, 5)"
      ]
    },
    {
      "cell_type": "code",
      "execution_count": null,
      "metadata": {
        "id": "-SSVrfMhP4JT"
      },
      "outputs": [],
      "source": [
        "np.linspace(0, 1, 20)"
      ]
    },
    {
      "cell_type": "code",
      "execution_count": null,
      "metadata": {
        "scrolled": true,
        "id": "NqMV0U-kP4JT"
      },
      "outputs": [],
      "source": [
        "np.linspace(0, 1, 20, False)"
      ]
    },
    {
      "cell_type": "markdown",
      "metadata": {
        "id": "uTx1ijh8P4JU"
      },
      "source": [
        "---\n",
        "### `zeros`, `ones`, `empty`"
      ]
    },
    {
      "cell_type": "code",
      "execution_count": null,
      "metadata": {
        "id": "ax2EGlqwP4JU"
      },
      "outputs": [],
      "source": [
        "np.zeros(5)"
      ]
    },
    {
      "cell_type": "code",
      "execution_count": null,
      "metadata": {
        "scrolled": true,
        "id": "xjNRZ2IXP4JU"
      },
      "outputs": [],
      "source": [
        "np.zeros((3, 3))"
      ]
    },
    {
      "cell_type": "code",
      "execution_count": null,
      "metadata": {
        "scrolled": true,
        "id": "uc2IlNaUP4JU"
      },
      "outputs": [],
      "source": [
        "np.zeros((3, 3), dtype=np.int)"
      ]
    },
    {
      "cell_type": "code",
      "execution_count": null,
      "metadata": {
        "id": "7mJW2u-1P4JU"
      },
      "outputs": [],
      "source": [
        "np.ones(5)"
      ]
    },
    {
      "cell_type": "code",
      "execution_count": null,
      "metadata": {
        "id": "SHhcGYN9P4JU"
      },
      "outputs": [],
      "source": [
        "np.ones((3, 3))"
      ]
    },
    {
      "cell_type": "code",
      "execution_count": null,
      "metadata": {
        "id": "k4Gcgqb9P4JU"
      },
      "outputs": [],
      "source": [
        "np.empty(5)"
      ]
    },
    {
      "cell_type": "code",
      "execution_count": null,
      "metadata": {
        "scrolled": true,
        "id": "QT2HV9hOP4JU"
      },
      "outputs": [],
      "source": [
        "np.empty((2, 2))"
      ]
    },
    {
      "cell_type": "markdown",
      "metadata": {
        "id": "ax8SRiLqP4JU"
      },
      "source": [
        "---\n",
        "### `identity` and `eye`"
      ]
    },
    {
      "cell_type": "code",
      "execution_count": null,
      "metadata": {
        "id": "cfUZU_nHP4JU"
      },
      "outputs": [],
      "source": [
        "np.identity(3)"
      ]
    },
    {
      "cell_type": "code",
      "execution_count": null,
      "metadata": {
        "id": "ims4Eie0P4JU"
      },
      "outputs": [],
      "source": [
        "np.eye(3, 3)"
      ]
    },
    {
      "cell_type": "code",
      "execution_count": null,
      "metadata": {
        "id": "uq91syYDP4JU"
      },
      "outputs": [],
      "source": [
        "np.eye(8, 4)"
      ]
    },
    {
      "cell_type": "code",
      "execution_count": null,
      "metadata": {
        "scrolled": true,
        "id": "p7UF-VlLP4JU"
      },
      "outputs": [],
      "source": [
        "np.eye(8, 4, k=1)"
      ]
    },
    {
      "cell_type": "code",
      "execution_count": null,
      "metadata": {
        "id": "CKT_LW9WP4JU"
      },
      "outputs": [],
      "source": [
        "np.eye(8, 4, k=-3)"
      ]
    },
    {
      "cell_type": "code",
      "execution_count": null,
      "metadata": {
        "scrolled": true,
        "id": "BBO-rnwfP4JU"
      },
      "outputs": [],
      "source": [
        "\"Hello World\"[6]"
      ]
    },
    {
      "cell_type": "markdown",
      "metadata": {
        "id": "8R0-Hu_6P4JU"
      },
      "source": [
        "![purple-divider](https://user-images.githubusercontent.com/7065401/52071927-c1cd7100-2562-11e9-908a-dde91ba14e59.png)"
      ]
    }
  ],
  "metadata": {
    "kernelspec": {
      "display_name": "Python 3",
      "language": "python",
      "name": "python3"
    },
    "language_info": {
      "codemirror_mode": {
        "name": "ipython",
        "version": 3
      },
      "file_extension": ".py",
      "mimetype": "text/x-python",
      "name": "python",
      "nbconvert_exporter": "python",
      "pygments_lexer": "ipython3",
      "version": "3.8.1"
    },
    "colab": {
      "provenance": []
    }
  },
  "nbformat": 4,
  "nbformat_minor": 0
}